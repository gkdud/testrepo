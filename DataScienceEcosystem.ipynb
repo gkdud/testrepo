{
 "cells": [
  {
   "cell_type": "markdown",
   "id": "58c432f1",
   "metadata": {},
   "source": [
    "# Data Science Tools and Ecosystem"
   ]
  },
  {
   "cell_type": "markdown",
   "id": "e983429a",
   "metadata": {},
   "source": [
    "In this notebook, Data Science Tools and Ecosystem are summarized."
   ]
  },
  {
   "cell_type": "markdown",
   "id": "197b1155",
   "metadata": {},
   "source": [
    "Some of the popular languages that Data Scientists use are:\n",
    "1. Python\n",
    "2. R\n",
    "3. SQL"
   ]
  },
  {
   "cell_type": "markdown",
   "id": "8e882157",
   "metadata": {},
   "source": [
    "Some of the commonly used libraries used by Data Scientists include:\n",
    "1. Pandas\n",
    "2. NumPy\n",
    "3. SciKit-Learn"
   ]
  },
  {
   "cell_type": "markdown",
   "id": "68c5cbfd",
   "metadata": {},
   "source": [
    "|Data Science Tools|\n",
    "|--|\n",
    "|RStudio|\n",
    "|Apache Spark|\n",
    "|Julia|"
   ]
  },
  {
   "cell_type": "markdown",
   "id": "ff4c0f4b",
   "metadata": {},
   "source": [
    "### Below are a few example of evaluating arithmetic expressions in Python\n",
    "a+b\\\n",
    "a*b\\\n",
    "a**b\\\n",
    "a/b"
   ]
  },
  {
   "cell_type": "code",
   "execution_count": 4,
   "id": "4362cf96",
   "metadata": {},
   "outputs": [
    {
     "data": {
      "text/plain": [
       "17"
      ]
     },
     "execution_count": 4,
     "metadata": {},
     "output_type": "execute_result"
    }
   ],
   "source": [
    "# This iis a simple arithmetic expression to multiply then add integers\n",
    "(3*4)+5"
   ]
  },
  {
   "cell_type": "code",
   "execution_count": 6,
   "id": "efba8dd0",
   "metadata": {},
   "outputs": [
    {
     "data": {
      "text/plain": [
       "3.3333333333333335"
      ]
     },
     "execution_count": 6,
     "metadata": {},
     "output_type": "execute_result"
    }
   ],
   "source": [
    "# This will convert 200 minutes to hours by dividing by 60.\n",
    "200/60"
   ]
  },
  {
   "cell_type": "markdown",
   "id": "b089f6eb",
   "metadata": {},
   "source": [
    "### Objectives:\n",
    "* Popular languages for Data Science are Python, R, SQL.\n",
    "* Some of the commonly used libraries in Data Science are Pandas, NumPy, and SciKit-Learn.\n",
    "* Examples of evaluating arithmetic expressions in Python are a+b, a*b, a/b."
   ]
  },
  {
   "cell_type": "markdown",
   "id": "8800e62b",
   "metadata": {},
   "source": [
    "## Author\n",
    "Hayoung Cho"
   ]
  },
  {
   "cell_type": "code",
   "execution_count": null,
   "id": "aadf3851",
   "metadata": {},
   "outputs": [],
   "source": []
  }
 ],
 "metadata": {
  "kernelspec": {
   "display_name": "Python 3 (ipykernel)",
   "language": "python",
   "name": "python3"
  },
  "language_info": {
   "codemirror_mode": {
    "name": "ipython",
    "version": 3
   },
   "file_extension": ".py",
   "mimetype": "text/x-python",
   "name": "python",
   "nbconvert_exporter": "python",
   "pygments_lexer": "ipython3",
   "version": "3.9.12"
  }
 },
 "nbformat": 4,
 "nbformat_minor": 5
}
